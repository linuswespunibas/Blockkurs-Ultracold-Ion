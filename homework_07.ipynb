{
 "cells": [
  {
   "cell_type": "markdown",
   "metadata": {},
   "source": [
    "# What this file contains\n",
    "\n",
    "-   All figures from data measured with Ca\\textsuperscript{+} ion"
   ]
  },
  {
   "cell_type": "code",
   "execution_count": 1,
   "metadata": {},
   "outputs": [],
   "source": [
    "from plot_functions import *\n",
    "c_scheme = [\"#ffb400\", \"#d2980d\", \"#a57c1b\", \"#786028\", \"#363445\", \"#48446e\", \"#5e569b\", \"#776bcd\", \"#9080ff\"]"
   ]
  },
  {
   "cell_type": "code",
   "execution_count": 2,
   "metadata": {},
   "outputs": [],
   "source": [
    "# import\n",
    "import pandas as pd\n",
    "import numpy as np \n",
    "import matplotlib.pyplot as plt \n",
    "from scipy.optimize import curve_fit\n",
    "import math"
   ]
  },
  {
   "cell_type": "code",
   "execution_count": 3,
   "metadata": {},
   "outputs": [],
   "source": [
    "# Enable LaTeX rendering\n",
    "plt.rcParams['text.usetex'] = True\n",
    "plt.rcParams['font.family'] = 'serif'\n",
    "plt.rcParams['font.serif'] = 'Computer Modern Roman'\n",
    "plt.rcParams['text.latex.preamble'] = r\"\\usepackage{amsmath}\""
   ]
  },
  {
   "cell_type": "code",
   "execution_count": 4,
   "metadata": {},
   "outputs": [],
   "source": [
    "# Load data\n",
    "data = pd.read_csv('data/oct_14_f0_for_oscillating_B.csv')\n",
    "\n",
    "time_1 = data.ms[0:11]*1e-3\n",
    "f0_1 = data.f_minus_f0[0:11]*1e3\n",
    "\n",
    "time_2 = data.ms[11:21]*1e-3\n",
    "f0_2 = data.f_minus_f0[11:21]*1e3\n",
    "\n",
    "time_full = data.ms*1e-3\n",
    "f0_full = data.f_minus_f0*1e3"
   ]
  },
  {
   "cell_type": "code",
   "execution_count": 5,
   "metadata": {},
   "outputs": [],
   "source": [
    "# fit four harmonics\n",
    "def f(t, A, B1, B2, B3, B4, phi1, phi2, phi3, phi4):\n",
    "    B = [B1, B2, B3, B4]\n",
    "    phi = [phi1, phi2, phi3, phi4]\n",
    "    y = A\n",
    "    for i in range(1, 5):\n",
    "#        y += B[i - 1] * np.cos(2 * np.pi * 50 * i * (t - xshift) + phi[i - 1])\n",
    "        y += B[i - 1] * np.cos(2 * np.pi * 50 * i * (t) + phi[i - 1])\n",
    "    # y += yshift\n",
    "    return y"
   ]
  },
  {
   "cell_type": "code",
   "execution_count": 6,
   "metadata": {},
   "outputs": [
    {
     "name": "stdout",
     "output_type": "stream",
     "text": [
      "max: 9.310064484020153 kHz\n",
      "min: -2.7222057505828037 kHz\n",
      "Delta kHz = 12.032270234602956\n",
      "\n",
      "max: 9.665381032222589 kHz\n",
      "min: -2.6463691143339045 kHz\n",
      "Delta kHz = 12.387586782805393\n",
      "\n",
      "max: 8.97694753227419 kHz\n",
      "min: -2.743844983462634 kHz\n",
      "Delta kHz = 11.699153282856994\n",
      "\n",
      "3.0563608486672793\n",
      "5.422872728137907\n",
      "0.17577896725953784\n",
      "1.1207248886655945\n",
      "0.15352758466830915\n",
      "2.86678354206754\n",
      "1.1799265948543491\n",
      "3.972675656109399\n",
      "3.2583263362900267e-24\n",
      "\n",
      "3.372631578687296\n",
      "5.573963566167642\n",
      "0.22744745467298655\n",
      "1.0859079632324111\n",
      "0.21944164672892966\n",
      "2.8793616046575248\n",
      "2.0792354838761256\n",
      "3.9730552307666183\n",
      "0.15985880437814115\n",
      "\n",
      "2.7199999990983863\n",
      "5.304625511272895\n",
      "0.3052502361341067\n",
      "1.1207801598918932\n",
      "0.12291796501894603\n",
      "2.8488763853877828\n",
      "0.569443847708451\n",
      "3.990026239451769\n",
      "9.415246200089461e-31\n",
      "\n"
     ]
    }
   ],
   "source": [
    "# fit all data heartpiece <3 NO COMP\n",
    "\n",
    "A = 3.0639\n",
    "\n",
    "B = np.array([\n",
    "    5.426641791844047,   # B1\n",
    "    0.1805639197657282,  # B2\n",
    "    1.11655701832264,    # B3\n",
    "    0.1574098079737187,  # B4\n",
    "])\n",
    "\n",
    "phi = np.array([\n",
    "    2.8662360325547045,  # phi1\n",
    "    1.1819633603404307,  # phi2\n",
    "    3.974799641899309,   # phi3\n",
    "    8.841432126156944e-20,  # phi4\n",
    "])\n",
    "\n",
    "initial_guess = [\n",
    "    A, \n",
    "    *B,\n",
    "    *phi\n",
    "]\n",
    "\n",
    "ttt = np.linspace(min(time_full), max(time_full), 1000)\n",
    "yyy = f(ttt, *initial_guess)\n",
    "\n",
    "boundaries=(\n",
    "    [0, 0,0,0,0,0,0,0,0],\n",
    "    [10, 10,10,10,10, 2*np.pi,2*np.pi,2*np.pi,2*np.pi]\n",
    ")\n",
    "\n",
    "params_01, covariance_01 = curve_fit(f, time_1, f0_1, p0=initial_guess, bounds=boundaries)\n",
    "params_02, covariance_02 = curve_fit(f, time_2, f0_2, p0=initial_guess, bounds=boundaries)\n",
    "params, covariance = curve_fit(f, time_full, f0_full, p0=initial_guess, bounds=boundaries)\n",
    "\n",
    "\n",
    "print(f\"max: {max(f(ttt,*params))} kHz\")\n",
    "print(f\"min: {min(f(ttt,*params))} kHz\")\n",
    "print(f\"Delta kHz = {max(f(ttt,*params)) - min(f(ttt,*params))}\\n\")\n",
    "\n",
    "print(f\"max: {max(f(ttt,*params_01))} kHz\")\n",
    "print(f\"min: {min(f(ttt,*params_01))} kHz\")\n",
    "print(f\"Delta kHz = {max(f(ttt,*params_01)) - min(f(ttt,*params))}\\n\")\n",
    "\n",
    "print(f\"max: {max(f(ttt,*params_02))} kHz\")\n",
    "print(f\"min: {min(f(ttt,*params_02))} kHz\")\n",
    "print(f\"Delta kHz = {max(f(ttt,*params_02)) - min(f(ttt,*params))}\")\n",
    "\n",
    "fit_vals = [params, params_01, params_02]\n",
    "print()\n",
    "for fit in fit_vals:\n",
    "    for fit_val in fit:\n",
    "        print(fit_val)\n",
    "    print()\n"
   ]
  },
  {
   "cell_type": "code",
   "execution_count": 7,
   "metadata": {},
   "outputs": [
    {
     "name": "stdout",
     "output_type": "stream",
     "text": [
      "Fit Parameters for combined dataset:\n",
      "A1 = 3.06 ± 0.12\n",
      "B1 = 5.42 ± 0.17\n",
      "B2 = 0.18 ± 0.17\n",
      "B3 = 1.12 ± 0.17\n",
      "B4 = 0.15 ± 0.17\n",
      "phi1 = 2.87 ± 0.03\n",
      "phi2 = 1.18 ± 0.97\n",
      "phi3 = 3.97 ± 0.15\n",
      "phi4 = 0.00 ± 1.10\n",
      "\n",
      "Fit Parameters for first dataset:\n",
      "A1 = 3.37 ± 0.10\n",
      "B1 = 5.57 ± 0.14\n",
      "B2 = 0.23 ± 0.14\n",
      "B3 = 1.09 ± 0.14\n",
      "B4 = 0.22 ± 0.14\n",
      "phi1 = 2.88 ± 0.03\n",
      "phi2 = 2.08 ± 0.61\n",
      "phi3 = 3.97 ± 0.13\n",
      "phi4 = 0.16 ± 0.64\n",
      "\n",
      "Fit Parameters for second dataset:\n",
      "A1 = 2.72 ± 0.22\n",
      "B1 = 5.30 ± 0.32\n",
      "B2 = 0.31 ± 0.32\n",
      "B3 = 1.12 ± 0.32\n",
      "B4 = 0.12 ± 0.32\n",
      "phi1 = 2.85 ± 0.06\n",
      "phi2 = 0.57 ± 1.03\n",
      "phi3 = 3.99 ± 0.28\n",
      "phi4 = 0.00 ± 2.57\n",
      "\n"
     ]
    }
   ],
   "source": [
    "# fit params and errors\n",
    "\n",
    "# Function to format and print parameters with customizable significant figures\n",
    "def print_fit_parameters(params, param_errors, dataset_name, param_sigfigs=2, error_sigfigs=2):\n",
    "    param_names = [\"A1\", \"B1\", \"B2\", \"B3\", \"B4\", \"phi1\", \"phi2\", \"phi3\", \"phi4\"]\n",
    "    print(f\"Fit Parameters for {dataset_name}:\")\n",
    "    for i, (param, error) in enumerate(zip(params, param_errors)):\n",
    "        print(f\"{param_names[i]} = {param:.{param_sigfigs}f} ± {error:.{error_sigfigs}f}\")\n",
    "    print()  # Blank line for spacing\n",
    "\n",
    "# Example: Customizable significant figures for parameters and errors\n",
    "param_sigfigs = 2  # Set number of significant figures for parameters\n",
    "error_sigfigs = 2  # Set number of significant figures for uncertainties\n",
    "\n",
    "# For the combined dataset\n",
    "A1, B1, B2, B3, B4, phi1, phi2, phi3, phi4 = params\n",
    "param_errors_full = np.sqrt(np.diag(covariance))\n",
    "print_fit_parameters(params, param_errors_full, \"combined dataset\", param_sigfigs, error_sigfigs)\n",
    "\n",
    "# For the first dataset\n",
    "A1, B1, B2, B3, B4, phi1, phi2, phi3, phi4 = params_01\n",
    "param_errors_01 = np.sqrt(np.diag(covariance_01))\n",
    "print_fit_parameters(params_01, param_errors_01, \"first dataset\", param_sigfigs, error_sigfigs)\n",
    "\n",
    "# For the second dataset\n",
    "A1, B1, B2, B3, B4, phi1, phi2, phi3, phi4 = params_02\n",
    "param_errors_02 = np.sqrt(np.diag(covariance_02))\n",
    "print_fit_parameters(params_02, param_errors_02, \"second dataset\", param_sigfigs, error_sigfigs)\n",
    "\n"
   ]
  },
  {
   "cell_type": "code",
   "execution_count": 8,
   "metadata": {},
   "outputs": [
    {
     "name": "stdout",
     "output_type": "stream",
     "text": [
      "R^2 for fit to first dataset: 0.9988168979459863\n",
      "R^2 for fit to second dataset: 0.9966316659624606\n",
      "R^2 for fit to both datasets: 0.9891157910461353\n"
     ]
    }
   ],
   "source": [
    "# R^2 for the first dataset\n",
    "y_fit_1 = f(time_1, *params_01)\n",
    "y_mean_1 = np.mean(f0_1)\n",
    "sst_1 = np.sum((f0_1 - y_mean_1)**2)\n",
    "ssr_1 = np.sum((f0_1 - y_fit_1)**2)\n",
    "r_squared_1 = 1 - (ssr_1 / sst_1)\n",
    "print(f\"R^2 for fit to first dataset: {r_squared_1}\")\n",
    "\n",
    "# R^2 for the second dataset\n",
    "y_fit_2 = f(time_2, *params_02)\n",
    "y_mean_2 = np.mean(f0_2)\n",
    "sst_2 = np.sum((f0_2 - y_mean_2)**2)\n",
    "ssr_2 = np.sum((f0_2 - y_fit_2)**2)\n",
    "r_squared_2 = 1 - (ssr_2 / sst_2)\n",
    "print(f\"R^2 for fit to second dataset: {r_squared_2}\")\n",
    "\n",
    "# R^2 for both datasets\n",
    "y_fit_full = f(time_full, *params)\n",
    "y_mean_full = np.mean(f0_full)\n",
    "sst_full = np.sum((f0_full - y_mean_full)**2)\n",
    "ssr_full = np.sum((f0_full - y_fit_full)**2)\n",
    "r_squared_full = 1 - (ssr_full / sst_full)\n",
    "print(f\"R^2 for fit to both datasets: {r_squared_full}\")\n",
    "\n"
   ]
  },
  {
   "cell_type": "markdown",
   "metadata": {},
   "source": [
    "# Static comp ON"
   ]
  },
  {
   "cell_type": "code",
   "execution_count": 9,
   "metadata": {},
   "outputs": [],
   "source": [
    "# read data STATIC COMP HEARTPIECE\n",
    "\n",
    "b_field_ca_measurement_with_static_and_active_comp = \"data/okt_21_b_field_measurement_by_ion_with_active_and_static_comp.csv\"\n",
    "data_b_ca_staticandactive_comp = pd.read_csv(b_field_ca_measurement_with_static_and_active_comp)\n",
    "\n",
    "t_comp_full = data_b_ca_staticandactive_comp.ms*1e-3\n",
    "f_comp_full = data_b_ca_staticandactive_comp.f_minus_f0*1e3\n",
    "\n",
    "t_comp_01 = data_b_ca_staticandactive_comp.ms[:11]*1e-3\n",
    "f_comp_01 = data_b_ca_staticandactive_comp.f_minus_f0[:11]*1e3\n",
    "\n",
    "t_comp_01 = data_b_ca_staticandactive_comp.ms[:10]*1e-3\n",
    "f_comp_01 = data_b_ca_staticandactive_comp.f_minus_f0[:10]*1e3\n",
    "\n",
    "\n",
    "t_comp_02 = data_b_ca_staticandactive_comp.ms[11:]*1e-3\n",
    "f_comp_02 = data_b_ca_staticandactive_comp.f_minus_f0[11:]*1e3\n",
    "\n",
    "# only data point 5\n",
    "extra_t_comp_01 = data_b_ca_staticandactive_comp.ms[10:11]*1e-3\n",
    "extra_f_comp_01 = data_b_ca_staticandactive_comp.f_minus_f0[10:11]*1e3"
   ]
  },
  {
   "cell_type": "code",
   "execution_count": 10,
   "metadata": {},
   "outputs": [],
   "source": [
    "# fit three harmonics to STATIC COMP\n",
    "def three_harmonics(t, A, B1, B2, B3, phi1, phi2, phi3):\n",
    "    B = [B1, B2, B3]\n",
    "    phi = [phi1, phi2, phi3]\n",
    "    y = A\n",
    "    for i in range(1, 4):\n",
    "#        y += B[i - 1] * np.cos(2 * np.pi * 50 * i * (t - xshift) + phi[i - 1])\n",
    "        y += B[i - 1] * np.cos(2 * np.pi * 50 * i * (t) + phi[i - 1])\n",
    "    # y += yshift\n",
    "    return y"
   ]
  },
  {
   "cell_type": "code",
   "execution_count": 11,
   "metadata": {},
   "outputs": [],
   "source": [
    "# fit all data heartpiece <3\n",
    "\n",
    "A = 2.0639\n",
    "\n",
    "B = np.array([\n",
    "    0.0,   # B1\n",
    "    0.0,  # B2\n",
    "    1.0,    # B3\n",
    "])\n",
    "\n",
    "phi = np.array([\n",
    "    0,\n",
    "    0,\n",
    "    0   # phi3\n",
    "])\n",
    "\n",
    "initial_guess_NOCOMP = [\n",
    "    A, \n",
    "    *B,\n",
    "    *phi\n",
    "]\n",
    "\n",
    "ttt_NOCOMP = np.linspace(min(t_comp_01), max(t_comp_01), 1000)\n",
    "yyy_NOCOMP = three_harmonics(ttt_NOCOMP, *initial_guess_NOCOMP)\n",
    "\n",
    "boundaries=(\n",
    "    [0,0,0,0,0,0,0,],\n",
    "    [10,10,10,10, 2*np.pi,2*np.pi,2*np.pi]\n",
    ")\n",
    "\n",
    "params_01_nocomp, covariance_01_nocomp = curve_fit(three_harmonics, t_comp_01, f_comp_01, p0=initial_guess_NOCOMP, bounds=boundaries)\n"
   ]
  },
  {
   "cell_type": "code",
   "execution_count": 12,
   "metadata": {},
   "outputs": [],
   "source": [
    "# b splines dataset 01\n",
    "\n",
    "from scipy.interpolate import make_interp_spline\n",
    "\n",
    "# Your data points\n",
    "time = t_comp_01.to_numpy()\n",
    "frequency_fluctuation = f_comp_01.to_numpy()\n",
    "\n",
    "# Sort data points by time for smooth interpolation\n",
    "sorted_indices = np.argsort(time)\n",
    "time_sorted = time[sorted_indices]\n",
    "frequency_sorted = frequency_fluctuation[sorted_indices]\n",
    "\n",
    "# Create a B-spline representation of the data\n",
    "spline = make_interp_spline(time_sorted, frequency_sorted, k=3)  # k=3 for cubic B-spline\n",
    "\n",
    "# Generate new time values for smooth curve\n",
    "time_new_bspline01 = np.linspace(time_sorted.min(), time_sorted.max(), 300)\n",
    "frequency_smooth_bspline01 = spline(time_new_bspline01)\n"
   ]
  },
  {
   "cell_type": "code",
   "execution_count": 13,
   "metadata": {},
   "outputs": [],
   "source": [
    "# b splines dataset 02\n",
    "\n",
    "# Updated data points\n",
    "time = t_comp_02.to_numpy()\n",
    "frequency_fluctuation = f_comp_02.to_numpy()\n",
    "\n",
    "# Sort data points by time for smooth interpolation\n",
    "sorted_indices = np.argsort(time)\n",
    "time_sorted = time[sorted_indices]\n",
    "frequency_sorted = frequency_fluctuation[sorted_indices]\n",
    "\n",
    "# Create a B-spline representation of the data\n",
    "spline = make_interp_spline(time_sorted, frequency_sorted, k=3)  # k=3 for cubic B-spline\n",
    "\n",
    "# Generate new time values for smooth curve\n",
    "time_new_bspline02 = np.linspace(time_sorted.min(), time_sorted.max(), 300)\n",
    "frequency_smooth_bspline_02 = spline(time_new_bspline02)\n"
   ]
  },
  {
   "cell_type": "code",
   "execution_count": 14,
   "metadata": {},
   "outputs": [],
   "source": [
    "# newton interpolation data set 01\n",
    "\n",
    "from scipy.interpolate import KroghInterpolator\n",
    "\n",
    "# Your data points\n",
    "time = t_comp_01.to_numpy()\n",
    "frequency_fluctuation = f_comp_01.to_numpy()\n",
    "\n",
    "# Sort data points by time to prevent issues with interpolation\n",
    "sorted_indices = np.argsort(time)\n",
    "time_sorted = time[sorted_indices]\n",
    "frequency_sorted = frequency_fluctuation[sorted_indices]\n",
    "\n",
    "# Create Newton interpolator\n",
    "newton_interpolator = KroghInterpolator(time_sorted, frequency_sorted)\n",
    "\n",
    "# Generate new time values for smooth curve\n",
    "time_new_newton01 = np.linspace(time_sorted.min(), time_sorted.max(), 300)\n",
    "frequency_newton01 = newton_interpolator(time_new_newton01)\n",
    "\n"
   ]
  },
  {
   "cell_type": "code",
   "execution_count": 15,
   "metadata": {},
   "outputs": [],
   "source": [
    "# newton interpolation data set 02\n",
    "\n",
    "from scipy.interpolate import KroghInterpolator\n",
    "\n",
    "# Updated data points\n",
    "time = t_comp_02.to_numpy()\n",
    "frequency_fluctuation = f_comp_02.to_numpy()\n",
    "\n",
    "# Sort data points by time to prevent issues with interpolation\n",
    "sorted_indices = np.argsort(time)\n",
    "time_sorted = time[sorted_indices]\n",
    "frequency_sorted = frequency_fluctuation[sorted_indices]\n",
    "\n",
    "# Create Newton interpolator\n",
    "newton_interpolator = KroghInterpolator(time_sorted, frequency_sorted)\n",
    "\n",
    "# Generate new time values for smooth curve\n",
    "time_new_newton02 = np.linspace(time_sorted.min(), time_sorted.max(), 300)\n",
    "frequency_newton02 = newton_interpolator(time_new_newton02)\n",
    "\n"
   ]
  },
  {
   "cell_type": "code",
   "execution_count": 16,
   "metadata": {},
   "outputs": [],
   "source": [
    "splitted_set = [\n",
    "\n",
    "    [time_1, f0_1, \"Dataset 1, AC\", c_scheme[0], \"\", \"s\"], # dataset 1\n",
    "    [ttt, f(ttt, *params_01), \"Fit, 1st dataset, AC\", c_scheme[0], \"-\", \"\"], # Fit, 1st dataset\n",
    "\n",
    "    [time_2, f0_2, \"Dataset 2, AC\", c_scheme[1], \"\", \"s\"], # dataset 2\n",
    "    [ttt, f(ttt, *params_02), \"Fit, 2nd dataset, AC\", c_scheme[1], \"-\", \"\"], # Fit, 2nd dataset\n",
    "\n",
    "    [ttt, f(ttt, *params), \"Fit, both data set, AC\", c_scheme[2], \"-\", \"\"], # Fit, both data set\n",
    "\n",
    "    [t_comp_01, f_comp_01, \"Dataset 1, SC\", c_scheme[7], \"\", \"s\"], # comp 1\n",
    "    [time_new_bspline01, frequency_smooth_bspline01, \"Fit, 1st dataset, SC \", c_scheme[7], \"-\", \"\"], # bspline1\n",
    "\n",
    "    [t_comp_02, f_comp_02, \"Dataset 2, SC\", c_scheme[8], \"\", \"s\"], # comp2 \n",
    "    [time_new_bspline02, frequency_smooth_bspline_02, \"Fit, 2nd dataset, SC \", c_scheme[8], \"-\", \"\"], # bspline2\n",
    "\n",
    "    # [time_new_newton01, frequency_newton01, \"Data compensation 1 newton interpolation\", c_scheme[0], \"-\", \"\"], # newton interpolation\n",
    "    # [time_new_newton02, frequency_newton02, \"Data compensation 2 newton interpolation\", c_scheme[4], \"-\", \"\"], # newton interpolation\n",
    "]\n",
    "\n",
    "from_ca = [\n",
    "\n",
    "    # [time_1-0.005, f0_1, \"Dataset 1, AC\", c_scheme[0], \"\", \"s\"], # dataset 1\n",
    "    # [ttt-0.005, f(ttt, *params_01), \"Fit, 1st dataset, AC\", c_scheme[0], \"-\", \"\"], # Fit, 1st dataset\n",
    "\n",
    "    # [time_2-0.005, f0_2, \"Dataset 2, AC\", c_scheme[1], \"\", \"s\"], # dataset 2\n",
    "\n",
    "    # [ttt-0.005, f(ttt, *params_02), \"Fit, 2nd dataset, AC\", c_scheme[1], \"-\", \"\"], # Fit, 2nd dataset\n",
    "\n",
    "    [ttt-0.0047, f(ttt, *params), r\"Ca\\textsuperscript{+}, Oct 21st\", c_scheme[0], \"-\", \"\"], # Fit, both data set\n",
    "]\n",
    "\n"
   ]
  },
  {
   "cell_type": "code",
   "execution_count": 17,
   "metadata": {},
   "outputs": [
    {
     "data": {
      "image/png": "[encoded data removed]",
      "text/plain": [
       "<Figure size 640x480 with 1 Axes>"
      ]
     },
     "metadata": {},
     "output_type": "display_data"
    },
    {
     "name": "stdout",
     "output_type": "stream",
     "text": [
      "9.310064484020153 -2.7222057505828037 12.032270234602956\n",
      "2.538199868363599 -1.678047904126711 4.21624777249031\n",
      "4.868267849665424 1.370585177325416 3.497682672340008\n",
      "4.868267849665424 -1.678047904126711 6.546315753792134\n"
     ]
    }
   ],
   "source": [
    "# REMAKE WITH ERRORS\n",
    "\n",
    "test_error = np.full(len(f0_1), 0.1)\n",
    "\n",
    "\n",
    "list_a = [\n",
    "\n",
    "    [time_1, f0_1, np.full(len(f0_1), 0.1), \"Dataset 1, AC, Oct 21st\", c_scheme[0], \"\", \"s\"], # dataset 1\n",
    "\n",
    "\n",
    "    [time_2, f0_2, np.full(len(f0_2), 0.1), \"Dataset 2, AC, Oct 21st\", c_scheme[1], \"\", \"s\"], # dataset 2\n",
    "\n",
    "\n",
    "    [t_comp_01, f_comp_01, np.full(len(f_comp_01), 0.1), \"Dataset 1, SC, Oct 21st\", c_scheme[7], \"\", \"s\"], # comp 1\n",
    "\n",
    "\n",
    "    [t_comp_02, f_comp_02, np.full(len(f_comp_02), 0.1), \"Dataset 2, SC, Oct 21st\", c_scheme[8], \"\", \"s\"], # comp2 \n",
    "\n",
    "    # [t_comp_02, f_comp_02, np.full(len(f_comp_02), 0.1), \"Dataset 2, SC, Oct 21st\", c_scheme[8], \"\", \"s\"], # comp2 \n",
    "\n",
    "    [extra_t_comp_01, extra_f_comp_01, 0.1, \"\", c_scheme[4], \"\", \"s\"],\n",
    "]\n",
    "\n",
    "list_b = [\n",
    "    # [ttt, f(ttt, *params_01), \"Fit, 1st dataset, AC\", c_scheme[0], \"-\", \"\"], # Fit, 1st dataset\n",
    "\n",
    "    # [ttt, f(ttt, *params_02), \"Fit, 2nd dataset, AC\", c_scheme[1], \"-\", \"\"], # Fit, 2nd dataset\n",
    "\n",
    "    [ttt, f(ttt, *params), \"Fit, both datasets, AC\", c_scheme[2], \"-\", \"\"], # Fit, both data set\n",
    "\n",
    "    [time_new_bspline01, frequency_smooth_bspline01, \"Fit, 1st dataset, SC \", c_scheme[7], \"-\", \"\"], # bspline1\n",
    "\n",
    "    [time_new_bspline02, frequency_smooth_bspline_02, \"Fit, 2nd dataset, SC \", c_scheme[8], \"-\", \"\"], # bspline2\n",
    "]\n",
    "\n",
    "one_axis__N_Y_with_error_bars__with_N_fits(list_a, list_b, name_x=r\"Time [s]\", name_y=\"Frequency fluctuation [kHz]\", plot_title=\"\", filename_to_save=\"python_figures/heart_piece\", marker_type=\"s\", marker_size=\"5\", capsize_errorbars=5, alpha_data=1.0, font_size=18, offset_text_size=18, legend_local = 0, x_ticks_limit=5, legend_size=12)\n",
    "\n",
    "print( max(f(ttt, *params)), min(f(ttt, *params)), max(f(ttt, *params))-min(f(ttt, *params)) )\n",
    "\n",
    "print(max(frequency_smooth_bspline01), min(frequency_smooth_bspline01), max(frequency_smooth_bspline01) - min(frequency_smooth_bspline01))\n",
    "\n",
    "print(max(frequency_smooth_bspline_02), min(frequency_smooth_bspline_02), max(frequency_smooth_bspline_02) - min(frequency_smooth_bspline_02))\n",
    "\n",
    "print(max(frequency_smooth_bspline_02), min(frequency_smooth_bspline01), max(frequency_smooth_bspline_02)-min(frequency_smooth_bspline01))\n",
    "\n"
   ]
  },
  {
   "cell_type": "code",
   "execution_count": 18,
   "metadata": {},
   "outputs": [
    {
     "data": {
      "image/png": "[encoded data removed]",
      "text/plain": [
       "<Figure size 640x480 with 1 Axes>"
      ]
     },
     "metadata": {},
     "output_type": "display_data"
    },
    {
     "name": "stdout",
     "output_type": "stream",
     "text": [
      "9.310064484020153 -2.7222057505828037 12.032270234602956\n",
      "2.538199868363599 -1.678047904126711 4.21624777249031\n",
      "4.868267849665424 1.370585177325416 3.497682672340008\n",
      "4.868267849665424 -1.678047904126711 6.546315753792134\n"
     ]
    }
   ],
   "source": [
    "# REMAKE WITH ERRORS\n",
    "\n",
    "test_error = np.full(len(f0_1), 0.1)\n",
    "\n",
    "\n",
    "list_a = [\n",
    "\n",
    "    [time_1, f0_1, np.full(len(f0_1), 0.1), \"Dataset 1, AC\", c_scheme[0], \"\", \"s\"], # dataset 1\n",
    "\n",
    "\n",
    "    [time_2, f0_2, np.full(len(f0_2), 0.1), \"Dataset 2, AC\", c_scheme[1], \"\", \"s\"], # dataset 2\n",
    "\n",
    "\n",
    "\n",
    "]\n",
    "\n",
    "list_b = [\n",
    "    [ttt, f(ttt, *params_01), \"Fit, 1st dataset, AC\", c_scheme[0], \"-\", \"\"], # Fit, 1st dataset\n",
    "\n",
    "    [ttt, f(ttt, *params_02), \"Fit, 2nd dataset, AC\", c_scheme[1], \"-\", \"\"], # Fit, 2nd dataset\n",
    "\n",
    "    [ttt, f(ttt, *params), \"Fit, both data set, AC\", c_scheme[2], \"-\", \"\"], # Fit, both data set\n",
    "\n",
    "]\n",
    "\n",
    "one_axis__N_Y_with_error_bars__with_N_fits(list_a, list_b, name_x=r\"Time [s]\", name_y=\"Frequency fluctuation [kHz]\", plot_title=\"\", filename_to_save=\"python_figures/bfield_from_ca\", marker_type=\"s\", marker_size=\"5\", capsize_errorbars=5, alpha_data=1.0, font_size=18, offset_text_size=18, legend_local = 1, x_ticks_limit=5)\n",
    "\n",
    "print( max(f(ttt, *params)), min(f(ttt, *params)), max(f(ttt, *params))-min(f(ttt, *params)) )\n",
    "\n",
    "print(max(frequency_smooth_bspline01), min(frequency_smooth_bspline01), max(frequency_smooth_bspline01) - min(frequency_smooth_bspline01))\n",
    "\n",
    "print(max(frequency_smooth_bspline_02), min(frequency_smooth_bspline_02), max(frequency_smooth_bspline_02) - min(frequency_smooth_bspline_02))\n",
    "\n",
    "print(max(frequency_smooth_bspline_02), min(frequency_smooth_bspline01), max(frequency_smooth_bspline_02)-min(frequency_smooth_bspline01))"
   ]
  },
  {
   "cell_type": "code",
   "execution_count": 19,
   "metadata": {},
   "outputs": [
    {
     "data": {
      "text/plain": [
       "([75.83333333333333, 70.83333333333334, 55.833333333333336],\n",
       " [3.636974693672952, 3.1097669796424428, 2.1385767894448695])"
      ]
     },
     "execution_count": 19,
     "metadata": {},
     "output_type": "execute_result"
    }
   ],
   "source": [
    "# Initial and new measurement values\n",
    "initial_value = 12.0\n",
    "new_measurements = [2.9, 3.5, 5.3]\n",
    "\n",
    "# Calculate percentage improvements\n",
    "improvements = [(initial_value - new_value) / initial_value * 100 for new_value in new_measurements]\n",
    "improvements\n",
    "\n",
    "\n",
    "import numpy as np\n",
    "\n",
    "# Initial values and uncertainties\n",
    "initial_value = 12.0  # initial measurement value in kHz\n",
    "initial_uncertainty = 0.4  # uncertainty in initial measurement in kHz\n",
    "\n",
    "# New measurements and their uncertainties\n",
    "new_measurements = [2.9, 3.5, 5.3]  # new measurement values in kHz\n",
    "new_uncertainties = [0.1, 0.1, 0.1]  # uncertainties for new measurements in kHz\n",
    "\n",
    "# Calculate improvements and their propagated uncertainties\n",
    "improvement_percentages = []\n",
    "uncertainties_in_improvement = []\n",
    "\n",
    "for new_value, new_uncertainty in zip(new_measurements, new_uncertainties):\n",
    "    # Calculate improvement percentage\n",
    "    improvement = (initial_value - new_value) / initial_value * 100\n",
    "    improvement_percentages.append(improvement)\n",
    "    \n",
    "    # Calculate propagated uncertainty in the improvement percentage\n",
    "    uncertainty = improvement * np.sqrt((initial_uncertainty / initial_value) ** 2 +\n",
    "                                        (new_uncertainty / new_value) ** 2)\n",
    "    uncertainties_in_improvement.append(uncertainty)\n",
    "\n",
    "improvement_percentages, uncertainties_in_improvement\n",
    "\n"
   ]
  },
  {
   "cell_type": "markdown",
   "metadata": {},
   "source": [
    "# 20 ms axis"
   ]
  },
  {
   "cell_type": "code",
   "execution_count": 20,
   "metadata": {},
   "outputs": [],
   "source": [
    "# read data\n",
    "\n",
    "file_oct_15_no_comp_1 = \"data/oct_15_no_comp_1 (copy).csv\"\n",
    "data_oct_15_no_comp_1 = pd.read_csv(file_oct_15_no_comp_1, sep=\"\\t\")\n",
    "\n",
    "# time_oct_15_no_comp_1 = (data_oct_15_no_comp_1.time_ms_1 / 2)*1e-3\n",
    "time_oct_15_no_comp_1 = (data_oct_15_no_comp_1.time_ms_1 / 2)\n",
    "AI_oct_15_no_comp_1 = data_oct_15_no_comp_1.analog_input\n",
    "\n",
    "# read data\n",
    "\n",
    "file_oct_15_active_comp_1_ = \"data/Bfielddata_Students2024/okt_15_active_comp_1.csv\"\n",
    "data_oct_15_active_comp_1_ = pd.read_csv(file_oct_15_active_comp_1_, sep=\"\\t\")\n",
    "\n",
    "# time_oct_15_active_comp_1_ = (data_oct_15_active_comp_1_.analog_output / 2)*1e-3\n",
    "time_oct_15_active_comp_1_ = (data_oct_15_active_comp_1_.analog_output / 2)\n",
    "AI_oct_15_active_comp_1_ = data_oct_15_active_comp_1_.time_ms_2"
   ]
  },
  {
   "cell_type": "code",
   "execution_count": 21,
   "metadata": {},
   "outputs": [],
   "source": [
    "# fit func\n",
    "\n",
    "def fitfunc(t, A, B1, B2, B3, B4, phi1, phi2, phi3, phi4, scale):\n",
    "    B = [B1, B2, B3, B4]\n",
    "    phi = [phi1, phi2, phi3, phi4]\n",
    "    y = A\n",
    "  \n",
    "\n",
    "    for i in range(1, 5):\n",
    "        # print(f\"B: {B[i - 1]}, phi: {phi[i - 1]}\")\n",
    "        # y += B[i - 1] * np.cos(scale * (2*np.pi)*50*i*(t) + phi[i - 1])\n",
    "        y += B[i - 1] * np.cos(scale *(2*np.pi)*i*(t) + phi[i - 1])\n",
    "\n",
    "    return y"
   ]
  },
  {
   "cell_type": "code",
   "execution_count": 22,
   "metadata": {},
   "outputs": [],
   "source": [
    "# get a good initial guess for \"no compensation\"\n",
    "\n",
    "ss = 2500\n",
    "\n",
    "B = [2.329/ss, 0.067/ss, 1.046/ss, 0.038/ss]\n",
    "phi = np.array([0,0,-np.pi,0])\n",
    "\n",
    "phi = phi - 1.5\n",
    "\n",
    "A = 4.868\n",
    "scale = 1/(40*1e3)\n",
    "\n",
    "initial_guess = [A, *B, *phi, scale]\n",
    "\n",
    "x_guess = np.linspace(0,20,10000)\n",
    "y_guess = fitfunc(x_guess, A, *B, *phi, scale)"
   ]
  },
  {
   "cell_type": "code",
   "execution_count": 23,
   "metadata": {},
   "outputs": [],
   "source": [
    "# get a good initial guess for \"yes compensation\"\n",
    "\n",
    "ss = 15000\n",
    "\n",
    "B = [2.329/ss, 0.067/ss, 10.046/ss, 0.038/ss]\n",
    "phi = np.array([0,0,-np.pi,0])\n",
    "\n",
    "phi = phi\n",
    "\n",
    "A = 4.8675\n",
    "scale = 1/40\n",
    "\n",
    "initial_guess = [A, *B, *phi, scale]\n",
    "\n",
    "# print(initial_guess)\n",
    "\n",
    "fitted_x_YC = np.linspace(0,20,10000)\n",
    "y_guess = fitfunc(fitted_x_YC, A, *B, *phi, scale)"
   ]
  },
  {
   "cell_type": "code",
   "execution_count": 24,
   "metadata": {},
   "outputs": [],
   "source": [
    "# fit\n",
    "\n",
    "boundaries=([-1,0,0,0,0,10*-np.pi,10*-np.pi,10*-np.pi,10*-np.pi,1e-12],[10,10,10,10,10, np.pi,np.pi,2*np.pi,np.pi, 1e12])\n",
    "params, covariance = curve_fit(fitfunc, time_oct_15_no_comp_1, AI_oct_15_no_comp_1, p0=initial_guess, bounds=boundaries)\n",
    "\n",
    "fitted_y = fitfunc(x_guess, *params)\n",
    "\n",
    "# print(\"Fit parameters:\")\n",
    "# #fit_parameter_names = [\"A\",  \"B1\",   \"B2\",   \"B3\",   \"B4\", \"phi1\", \"phi2\", \"phi3\", \"phi4\", \"xshift\", \"yshift\"]\n",
    "# fit_parameter_names = [\"A\",  \"B1\",   \"B2\",   \"B3\",   \"B4\", \"phi1\", \"phi2\", \"phi3\", \"phi4\", \"scale\"]\n",
    "# for index, parameter in enumerate(params):\n",
    "#     print(f\"{fit_parameter_names[index]}: {parameter}\")\n",
    "\n"
   ]
  },
  {
   "cell_type": "code",
   "execution_count": 25,
   "metadata": {},
   "outputs": [],
   "source": [
    "# # fit\n",
    "\n",
    "# boundaries=([-1,0,0,0,0,10*-np.pi,10*-np.pi,10*-np.pi,10*-np.pi,1e-12],[10,10,10,10,10, np.pi,np.pi,2*np.pi,np.pi, 1e12])\n",
    "# params, covariance = curve_fit(fitfunc, time_oct_15_active_comp_1_, AI_oct_15_active_comp_1_, p0=initial_guess, bounds=boundaries)\n",
    "\n",
    "# fitted_y_YC = fitfunc(fitted_x_YC, *params)"
   ]
  },
  {
   "cell_type": "code",
   "execution_count": 26,
   "metadata": {},
   "outputs": [
    {
     "name": "stdout",
     "output_type": "stream",
     "text": [
      "4.869449760378331\n",
      "4.866471719151092\n",
      "delta fit bfield =  2.9780412272391033 mG\n"
     ]
    }
   ],
   "source": [
    "file_okt_21_static_comp_monday_optimized_the_setup = \"data/Bfielddata_Students2024/okt_21_static_comp_monday_optimized_the_setup.csv\"\n",
    "data_okt_21_static_comp_monday_optimized_the_setup = pd.read_csv(file_okt_21_static_comp_monday_optimized_the_setup, sep=\"\\t\")\n",
    "\n",
    "time_okt_21_static_comp_monday_optimized_the_setup = data_okt_21_static_comp_monday_optimized_the_setup.analog_output / 2\n",
    "\n",
    "AI_okt_21_static_comp_monday_optimized_the_setup = data_okt_21_static_comp_monday_optimized_the_setup.time_ms_2\n",
    "\n",
    "\n",
    "\n",
    "aaaa = [\n",
    "    [time_oct_15_no_comp_1, AI_oct_15_no_comp_1, \"No compensation, Oct 18th\", c_scheme[0], \"-\", \"s\"], # dataset 1\n",
    "    [x_guess, fitted_y, \"Fit, no compensation\", c_scheme[0],  \"-\", \"\"],\n",
    "\n",
    "    # [time_oct_15_active_comp_1_, AI_oct_15_active_comp_1_, \"SC\", c_scheme[7], \"\", \"s\"],\n",
    "    # # [x_guess, y_guess, \"oct_15_no_comp_1 fit\", c_scheme[7],  \"-\", \"\"],\n",
    "    # [fitted_x_YC, fitted_y_YC, \"Fit, SC\", c_scheme[7], \"-\", \"\"],\n",
    "\n",
    "    [time_okt_21_static_comp_monday_optimized_the_setup*1e-3, AI_okt_21_static_comp_monday_optimized_the_setup, \"Static compensation, Oct 21st\", c_scheme[8],  \"-\", \"s\"]\n",
    "]\n",
    "\n",
    "\n",
    "#     \n",
    "\n",
    "\n",
    "print(max(fitted_y))\n",
    "print(min(fitted_y))\n",
    "\n",
    "print(f\"delta fit bfield =  {(max(fitted_y) - min(fitted_y))*1e3} mG\")\n",
    "\n"
   ]
  },
  {
   "cell_type": "code",
   "execution_count": 27,
   "metadata": {},
   "outputs": [],
   "source": [
    "\n",
    "\n",
    "# # oct_15_no_comp_1 AND oct_15_active_comp_1\n",
    "# plot_with_one_axis(aaaa, name_x=\"Time [ms]\", name_y=\"Analog input [V]\", plot_title=\"\", filename_to_save=\"nosvg\", marker_size=\"4\", font_size=18, offset_text_size=18, legend_local = 0, x_ticks_limit=5, legend_size=18*(4/6))\n"
   ]
  },
  {
   "cell_type": "markdown",
   "metadata": {},
   "source": [
    "# 0.02 s axis"
   ]
  },
  {
   "cell_type": "code",
   "execution_count": 28,
   "metadata": {},
   "outputs": [],
   "source": [
    "# # read data\n",
    "\n",
    "# time_oct_15_no_comp_1 = (data_oct_15_no_comp_1.time_ms_1 / 2)*1e-3\n",
    "# AI_oct_15_no_comp_1 = data_oct_15_no_comp_1.analog_input\n",
    "\n",
    "# # read data\n",
    "\n",
    "# file_oct_15_active_comp_1_ = \"data/Bfielddata_Students2024/okt_15_active_comp_1.csv\"\n",
    "# data_oct_15_active_comp_1_ = pd.read_csv(file_oct_15_active_comp_1_, sep=\"\\t\")\n",
    "\n",
    "# time_oct_15_active_comp_1_ = (data_oct_15_active_comp_1_.analog_output / 2)*1e-3\n",
    "# AI_oct_15_active_comp_1_ = data_oct_15_active_comp_1_.time_ms_2\n",
    "\n",
    "# def fitfunc(t, A, B1, B2, B3, B4, phi1, phi2, phi3, phi4, scale):\n",
    "#     B = [B1, B2, B3, B4]\n",
    "#     phi = [phi1, phi2, phi3, phi4]\n",
    "#     y = A\n",
    "  \n",
    "\n",
    "#     for i in range(1, 5):\n",
    "#         # print(f\"B: {B[i - 1]}, phi: {phi[i - 1]}\")\n",
    "#         # y += B[i - 1] * np.cos(scale * (2*np.pi)*50*i*(t) + phi[i - 1])\n",
    "#         y += B[i - 1] * np.cos(scale *(2*np.pi)*i*(t) + phi[i - 1])\n",
    "\n",
    "#     return y\n",
    "\n",
    "# # get a good initial guess for \"yes compensation\"\n",
    "\n",
    "# ss = 15000\n",
    "\n",
    "# B = [2.329/ss, 0.067/ss, 10.046/ss, 0.038/ss]\n",
    "# phi = np.array([0,0,-np.pi,0])\n",
    "\n",
    "# phi = phi\n",
    "\n",
    "# A = 4.8675\n",
    "# scale = 1/(40*1e-3)\n",
    "\n",
    "# initial_guess = [A, *B, *phi, scale]\n",
    "\n",
    "# # print(initial_guess)\n",
    "\n",
    "# fitted_x_YC = np.linspace(0,20*1e-3,10000)\n",
    "# y_guess = fitfunc(fitted_x_YC, A, *B, *phi, scale)\n",
    "\n",
    "# boundaries=([-1,0,0,0,0,10*-np.pi,10*-np.pi,10*-np.pi,10*-np.pi,1e-12],[10,10,10,10,10, np.pi,np.pi,2*np.pi,np.pi, 1e12])\n",
    "# params, covariance = curve_fit(fitfunc, time_oct_15_active_comp_1_, AI_oct_15_active_comp_1_, p0=initial_guess, bounds=boundaries)\n",
    "\n",
    "# fitted_y_YC = fitfunc(fitted_x_YC, *params)"
   ]
  },
  {
   "cell_type": "code",
   "execution_count": 29,
   "metadata": {},
   "outputs": [],
   "source": [
    "# boundaries=([-1,0,0,0,0,10*-np.pi,10*-np.pi,10*-np.pi,10*-np.pi,1e-12],[10,10,10,10,10, np.pi,np.pi,2*np.pi,np.pi, 1e12])\n",
    "# params, covariance = curve_fit(fitfunc, time_oct_15_no_comp_1, AI_oct_15_no_comp_1, p0=initial_guess, bounds=boundaries)\n",
    "\n",
    "# x_guess = np.linspace(0,20*1e-3,10000)\n",
    "\n",
    "# fitted_y = fitfunc(x_guess, *params)"
   ]
  },
  {
   "cell_type": "code",
   "execution_count": 30,
   "metadata": {},
   "outputs": [],
   "source": [
    "# aaaa = [\n",
    "#     [time_oct_15_no_comp_1, AI_oct_15_no_comp_1, \"No compensation\", c_scheme[0], \"\", \"s\"], # dataset 1\n",
    "#     [x_guess, fitted_y, \"Fit, no compensation\", c_scheme[0],  \"-\", \"\"],\n",
    "#     [time_oct_15_active_comp_1_, AI_oct_15_active_comp_1_, \"SC\", c_scheme[7], \"\", \"s\"],\n",
    "#     # [fitted_x_YC, y_guess, \"oct_15_no_comp_1 fit\", c_scheme[7],  \"-\", \"\"],\n",
    "#     [fitted_x_YC, fitted_y_YC, \"Fit, SC\", c_scheme[7], \"-\", \"\"]\n",
    "# ]\n",
    "\n",
    "# from_B = [\n",
    "#     # [time_oct_15_no_comp_1, AI_oct_15_no_comp_1, \"oct_15_no_comp_1\", c_scheme[7], \"\", \"s\"], # dataset 1\n",
    "#     [x_guess, fitted_y, \"B-field detector\", c_scheme[7],  \"-\", \"\"],\n",
    "# ]\n",
    "\n",
    "\n",
    "\n",
    "# # oct_15_no_comp_1 AND oct_15_active_comp_1\n",
    "# plot_with_one_axis(aaaa, name_x=\"Time [s]\", name_y=\"Analog input [V]\", plot_title=\"\", filename_to_save=\"nosvg\", marker_size=\"4\", font_size=18, offset_text_size=18, legend_local = 0, x_ticks_limit=5, legend_size=18*(4/6))\n",
    "\n",
    "\n"
   ]
  },
  {
   "cell_type": "markdown",
   "metadata": {},
   "source": [
    "# shape from oct 18 "
   ]
  },
  {
   "cell_type": "code",
   "execution_count": 31,
   "metadata": {},
   "outputs": [],
   "source": [
    "# read data\n",
    "\n",
    "file_okt_18_static_comp_2 = \"data/Bfielddata_Students2024/okt_18_static_comp2.csv\"\n",
    "data_18_okt_static_comp_2 = pd.read_csv(file_okt_18_static_comp_2, sep=\"\\t\")\n",
    "\n",
    "time_okt_18_static_comp_2 = data_18_okt_static_comp_2.time_ms_1 / 2\n",
    "AI_okt_18_static_comp_2 = data_18_okt_static_comp_2.analog_input\n",
    "\n",
    "OTHER_time_okt_18_static_comp_2 = data_18_okt_static_comp_2.time_ms_1 / 2\n",
    "OTHER_AI_okt_18_static_comp_2 = data_18_okt_static_comp_2.analog_output\n",
    "\n",
    "\n",
    "\n",
    "# read data\n",
    "\n",
    "file_okt_18_no_comp_2 = \"data/Bfielddata_Students2024/okt_18_no_comp_2.csv\"\n",
    "data_18_okt_no_comp_2 = pd.read_csv(file_okt_18_no_comp_2, sep=\"\\t\")\n",
    "\n",
    "time_okt_18_no_comp_2 = data_18_okt_no_comp_2.analog_output\n",
    "AI_okt_18_no_comp_2 = data_18_okt_no_comp_2.time_ms_2\n",
    "\n",
    "OTHER_time_okt_18_no_comp_2 = data_18_okt_no_comp_2.analog_output\n",
    "OTHER_AI_okt_18_no_comp_2 = data_18_okt_no_comp_2.time_ms_1\n",
    "\n",
    "\n",
    "time_okt_18_no_comp_2_judith = time_okt_18_no_comp_2*1e-3 / 2\n",
    "AI_okt_18_no_comp_2_judith = AI_okt_18_no_comp_2\n",
    "\n",
    "time_okt_18_static_comp_2_judith = data_18_okt_static_comp_2.time_ms_1*1e-3 / 2\n",
    "AI_okt_18_static_comp_2_judith = data_18_okt_static_comp_2.analog_input\n",
    "\n",
    "try_fit_time_okt_21_static_comp_monday_optimized_the_setup = time_okt_21_static_comp_monday_optimized_the_setup\n",
    "try_fit_AI_okt_21_static_comp_monday_optimized_the_setup = AI_okt_21_static_comp_monday_optimized_the_setup\n",
    "\n",
    "\n",
    "\n",
    "# get a good initial guess for \"no_comp_2\"\n",
    "\n",
    "# fit_two_harmonics \n",
    "\n",
    "ss = 15000\n",
    "B = [2.329/ss, 0.067/ss, 10.046/ss, 0.038/ss]\n",
    "phi = np.array([0,0,-np.pi,0])\n",
    "phi = phi\n",
    "A = 4.8675\n",
    "scale = 1/(40*1e-3)\n",
    "initial_guess = [A, *B, *phi, scale]\n",
    "# print(initial_guess)\n",
    "fitted_x_YC = np.linspace(0,20*1e-3,10000)\n",
    "y_guess = fitfunc(fitted_x_YC, A, *B, *phi, scale)\n",
    "boundaries=([-1,0,0,0,0,10*-np.pi,10*-np.pi,10*-np.pi,10*-np.pi,1e-12],[10,10,10,10,10, np.pi,np.pi,2*np.pi,np.pi, 1e12])\n",
    "params, covariance = curve_fit(fitfunc, time_okt_18_no_comp_2_judith, AI_okt_18_no_comp_2_judith, p0=initial_guess, bounds=boundaries)\n",
    "fitted_y_YC_oct18 = fitfunc(fitted_x_YC, *params)\n",
    "\n",
    "\n",
    "\n",
    "like_judith = [[fitted_x_YC-0.00006, fitted_y_YC_oct18, \"B-field detector, Oct 18th\", c_scheme[8],  \"-\", \"\"]]\n",
    "\n",
    "\n",
    "# plot_with_one_axis(like_judith, name_x=\"Time [s]\", name_y=\"Analog input [V]\", plot_title=\"\", filename_to_save=\"nosvg\", marker_size=\"4\", font_size=18, offset_text_size=18, legend_local = 0, x_ticks_limit=5, legend_size=16*(5/6))\n"
   ]
  },
  {
   "cell_type": "code",
   "execution_count": 32,
   "metadata": {},
   "outputs": [
    {
     "data": {
      "image/png": "[encoded data removed]",
      "text/plain": [
       "<Figure size 640x480 with 2 Axes>"
      ]
     },
     "metadata": {},
     "output_type": "display_data"
    }
   ],
   "source": [
    "\n",
    "\n",
    "plot_with_two_axes_with_N_curves_with_VERTICAL_lines(from_ca, like_judith, \"One period of the power line\", \"Frequency fluctuation [kHz]\", \"Analog input [V]\", col_ax1 = \"black\", col_ax2=\"black\", plot_title=\"\", filename_to_save=\"python_figures/test_overlay_heart_piece\",  marker_size=\"3\", font_size=18, legend_size=18*(3/4), legend_local=1, vlines=None, x_ticks=False) #, vlines=[[0.02, \"red\", \"-\"]])\n"
   ]
  },
  {
   "cell_type": "code",
   "execution_count": null,
   "metadata": {},
   "outputs": [],
   "source": []
  },
  {
   "cell_type": "code",
   "execution_count": 33,
   "metadata": {},
   "outputs": [],
   "source": [
    "# import matplotlib.pyplot as plt\n",
    "\n",
    "# def TTTTTTTTTT(\n",
    "#     data_y_one: list, \n",
    "#     data_y_two: list, \n",
    "#     name_x: str, \n",
    "#     name_y1: str, \n",
    "#     name_y2: str, \n",
    "#     plot_title=\"Title\", \n",
    "#     filename_to_save=\"nopdf\", \n",
    "#     col1=\"red\", \n",
    "#     col2=\"lightcoral\", \n",
    "#     col3=\"blue\", \n",
    "#     label1=\"Label1\", \n",
    "#     label2=\"Label2\", \n",
    "#     label3=\"Label3\", \n",
    "#     vlines=None\n",
    "# ):\n",
    "#     fig, ax1 = plt.subplots()\n",
    "\n",
    "#     # Set labels for the bottom x-axis and left y-axis\n",
    "#     ax1.set_xlabel(name_x)\n",
    "#     ax1.set_ylabel(name_y1, color=col1)\n",
    "\n",
    "#     # Plot data for the first y-axis\n",
    "#     plot_1 = []\n",
    "#     for d1 in data_y_one:\n",
    "#         x, y, lab, col, lins, linsh = d1\n",
    "#         plot_1.append(ax1.plot(x, y, color=col, label=lab, marker=linsh, linestyle=lins))\n",
    "#     ax1.tick_params(axis='y', labelcolor=col1)\n",
    "\n",
    "#     # Create a second y-axis (right side)\n",
    "#     ax2 = ax1.twinx()\n",
    "#     ax2.set_ylabel(name_y2, color=col3)\n",
    "\n",
    "#     # Plot data for the second y-axis\n",
    "#     plot_2 = []\n",
    "#     for d2 in data_y_two:\n",
    "#         x, y, lab, col, lins, linsh = d2\n",
    "#         plot_2.append(ax2.plot(x, y, color=col, label=lab, marker=linsh, linestyle=lins))\n",
    "#     ax2.tick_params(axis='y', labelcolor=col3)\n",
    "\n",
    "#     # Add a second x-axis at the top for the green data\n",
    "#     ax3 = ax2.twiny()\n",
    "#     ax3.spines['top'].set_position(('outward', 40))  # Offset the top axis\n",
    "#     ax3.xaxis.set_label_position('top')\n",
    "#     ax3.xaxis.tick_top()\n",
    "#     ax3.set_xlabel(name_x + \" (Top Axis for Green Data)\")\n",
    "    \n",
    "#     # Ensure all plots fit well within the layout\n",
    "#     fig.tight_layout()\n",
    "\n",
    "#     # Combine legends for both y-axes\n",
    "#     lns = [line for sublist in plot_1 for line in sublist] + [line for sublist in plot_2 for line in sublist]\n",
    "#     labels = [line.get_label() for line in lns]\n",
    "#     plt.title(plot_title)\n",
    "#     plt.legend(lns, labels, loc=\"best\")\n",
    "\n",
    "#     # Plot optional vertical lines\n",
    "#     if vlines:\n",
    "#         for x_val, color, linestyle in vlines:\n",
    "#             ax1.axvline(x=x_val, color=color, linestyle=linestyle)\n",
    "\n",
    "#     # Save the plot if a filename is specified\n",
    "#     if filename_to_save != \"nopdf\":\n",
    "#         plt.savefig(f\"{filename_to_save}.svg\")\n",
    "\n",
    "#     # Display the plot\n",
    "#     plt.show()\n",
    "\n"
   ]
  },
  {
   "cell_type": "markdown",
   "metadata": {},
   "source": [
    "# try to get ms on x axis"
   ]
  },
  {
   "cell_type": "code",
   "execution_count": 34,
   "metadata": {},
   "outputs": [],
   "source": [
    "# # Load data\n",
    "# data = pd.read_csv('data/oct_14_f0_for_oscillating_B.csv')\n",
    "\n",
    "# time_1 = data.ms[0:11]\n",
    "# f0_1 = data.f_minus_f0[0:11]*1e3\n",
    "\n",
    "# time_2 = data.ms[11:21]\n",
    "# f0_2 = data.f_minus_f0[11:21]*1e3\n",
    "\n",
    "# time_full = data.ms\n",
    "# f0_full = data.f_minus_f0*1e3\n",
    "\n",
    "\n"
   ]
  },
  {
   "cell_type": "code",
   "execution_count": 35,
   "metadata": {},
   "outputs": [],
   "source": [
    "# def f(t, B1, B2, B3, B4, phi1, phi2, phi3, phi4):\n",
    "#     B = [B1, B2, B3, B4]\n",
    "#     phi = [phi1, phi2, phi3, phi4]\n",
    "#     y = 3.38581431\n",
    "#     for i in range(1, 5):\n",
    "# #        y += B[i - 1] * np.cos(2 * np.pi * 50 * i * (t - xshift) + phi[i - 1])\n",
    "#         y += B[i - 1] * np.cos(2 * np.pi * 50 * i * (t) + phi[i - 1])\n",
    "#     # y += yshift\n",
    "#     return y"
   ]
  },
  {
   "cell_type": "markdown",
   "metadata": {},
   "source": [
    "# static comp vs slow active comp"
   ]
  },
  {
   "cell_type": "code",
   "execution_count": 36,
   "metadata": {},
   "outputs": [
    {
     "data": {
      "text/plain": [
       "33.333333333333336"
      ]
     },
     "execution_count": 36,
     "metadata": {},
     "output_type": "execute_result"
    }
   ],
   "source": [
    "# Given values for the two compensations\n",
    "delta_B_active_comp = 1.8  # in mG\n",
    "delta_B_static_comp = 1.2  # in mG\n",
    "\n",
    "# Calculate how much better static compensation performs compared to active compensation\n",
    "performance_improvement_percentage = ((delta_B_active_comp - delta_B_static_comp) / delta_B_active_comp) * 100\n",
    "\n",
    "performance_improvement_percentage\n"
   ]
  },
  {
   "cell_type": "code",
   "execution_count": 37,
   "metadata": {},
   "outputs": [
    {
     "data": {
      "text/plain": [
       "24.216105241892627"
      ]
     },
     "execution_count": 37,
     "metadata": {},
     "output_type": "execute_result"
    }
   ],
   "source": [
    "import numpy as np\n",
    "\n",
    "# Given uncertainties\n",
    "sigma_active = 0.3  # mG\n",
    "sigma_static = 0.3  # mG\n",
    "\n",
    "# Difference between the two compensations\n",
    "delta_difference = delta_B_active_comp - delta_B_static_comp\n",
    "\n",
    "# Error in the difference\n",
    "sigma_diff = np.sqrt(sigma_active**2 + sigma_static**2)\n",
    "\n",
    "# Improvement percentage already calculated\n",
    "improvement_percentage = performance_improvement_percentage\n",
    "\n",
    "# Fractional error of the improvement percentage\n",
    "fractional_error = np.sqrt(\n",
    "    (sigma_diff / delta_difference)**2 + (sigma_active / delta_B_active_comp)**2\n",
    ")\n",
    "\n",
    "# Absolute error in the improvement percentage\n",
    "sigma_improvement_percentage = fractional_error * improvement_percentage\n",
    "\n",
    "sigma_improvement_percentage\n"
   ]
  },
  {
   "cell_type": "markdown",
   "metadata": {},
   "source": [
    "# improvement with static comp on Bfield detector"
   ]
  },
  {
   "cell_type": "code",
   "execution_count": 38,
   "metadata": {},
   "outputs": [
    {
     "data": {
      "text/plain": [
       "60.0"
      ]
     },
     "execution_count": 38,
     "metadata": {},
     "output_type": "execute_result"
    }
   ],
   "source": [
    "# 1.2 \\pm 0.3\n",
    "\n",
    "# Given values for the two compensations\n",
    "delta_B_active_comp = 3.0  # in mG\n",
    "delta_B_static_comp = 1.2  # in mG\n",
    "\n",
    "# Calculate how much better static compensation performs compared to active compensation\n",
    "performance_improvement_percentage = ((delta_B_active_comp - delta_B_static_comp) / delta_B_active_comp) * 100\n",
    "\n",
    "performance_improvement_percentage\n"
   ]
  },
  {
   "cell_type": "code",
   "execution_count": 39,
   "metadata": {},
   "outputs": [
    {
     "data": {
      "text/plain": [
       "15.362291495737214"
      ]
     },
     "execution_count": 39,
     "metadata": {},
     "output_type": "execute_result"
    }
   ],
   "source": [
    "import numpy as np\n",
    "\n",
    "# Given uncertainties\n",
    "sigma_active = 0.3  # mG\n",
    "sigma_static = 0.3  # mG\n",
    "\n",
    "# Difference between the two compensations\n",
    "delta_difference = delta_B_active_comp - delta_B_static_comp\n",
    "\n",
    "# Error in the difference\n",
    "sigma_diff = np.sqrt(sigma_active**2 + sigma_static**2)\n",
    "\n",
    "# Improvement percentage already calculated\n",
    "improvement_percentage = performance_improvement_percentage\n",
    "\n",
    "# Fractional error of the improvement percentage\n",
    "fractional_error = np.sqrt(\n",
    "    (sigma_diff / delta_difference)**2 + (sigma_active / delta_B_active_comp)**2\n",
    ")\n",
    "\n",
    "# Absolute error in the improvement percentage\n",
    "sigma_improvement_percentage = fractional_error * improvement_percentage\n",
    "\n",
    "sigma_improvement_percentage\n"
   ]
  }
 ],
 "metadata": {
  "kernelspec": {
   "display_name": "Python 3",
   "language": "python",
   "name": "python3"
  },
  "language_info": {
   "codemirror_mode": {
    "name": "ipython",
    "version": 3
   },
   "file_extension": ".py",
   "mimetype": "text/x-python",
   "name": "python",
   "nbconvert_exporter": "python",
   "pygments_lexer": "ipython3",
   "version": "3.12.3"
  }
 },
 "nbformat": 4,
 "nbformat_minor": 2
}
