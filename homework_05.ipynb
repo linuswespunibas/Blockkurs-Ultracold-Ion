{
 "cells": [
  {
   "cell_type": "markdown",
   "metadata": {},
   "source": [
    "# What this file contains\n",
    "\n",
    "-   Considerations of the earths magnetic field"
   ]
  },
  {
   "cell_type": "markdown",
   "metadata": {},
   "source": [
    "# Earths magnetic field\n",
    "\n",
    "$B_{setup} = 4.7$ G \n",
    "\n",
    "$B_{fluctuation} = 2.5$ mG\n",
    "\n",
    "$B_{earth} = 0.4 \\pm 0.15$ G\n",
    "\n",
    "In Switzerland $B_{earth} = 0.48$ G with a $68$° angle with the horizontal plane\n",
    "\n",
    "Therefore \n",
    "$B_{earth horizontal} = cos(65) \\cdot 0.48 = 0.203$ G\n",
    "\n",
    "$B_{earth vertical} = sin(65) \\cdot 0.48 = 0.435$ G\n",
    "\n",
    "\n",
    "The resultant vector is $B = \\begin{bmatrix}\n",
    "           0.203 \\\\\n",
    "           5.135 \\\\\n",
    "         \\end{bmatrix}$ G\n",
    "\n",
    "\n",
    "The earths magnetic field has a sizable impact, but not on the oscillating B-field, since the earths magnetic field is constant\n",
    "\n",
    "$arctan(\\frac{0.203}{5.135}) = 2.3$°\n"
   ]
  }
 ],
 "metadata": {
  "kernelspec": {
   "display_name": "Python 3",
   "language": "python",
   "name": "python3"
  },
  "language_info": {
   "codemirror_mode": {
    "name": "ipython",
    "version": 3
   },
   "file_extension": ".py",
   "mimetype": "text/x-python",
   "name": "python",
   "nbconvert_exporter": "python",
   "pygments_lexer": "ipython3",
   "version": "3.12.3"
  }
 },
 "nbformat": 4,
 "nbformat_minor": 2
}
